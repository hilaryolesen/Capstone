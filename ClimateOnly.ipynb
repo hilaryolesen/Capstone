{
 "cells": [
  {
   "cell_type": "code",
   "execution_count": 1,
   "id": "c90296e2",
   "metadata": {},
   "outputs": [],
   "source": [
    "import pandas as pd"
   ]
  },
  {
   "cell_type": "code",
   "execution_count": 3,
   "id": "36cd2971",
   "metadata": {},
   "outputs": [],
   "source": [
    "df=pd.read_excel('AllArticles.xlsx')"
   ]
  },
  {
   "cell_type": "code",
   "execution_count": 7,
   "id": "fdf89cc9",
   "metadata": {},
   "outputs": [],
   "source": [
    "cc=[]\n",
    "for i in df['Texts']:\n",
    "    if 'climate change' in i.lower():\n",
    "        cc.append(1)\n",
    "    else:\n",
    "        cc.append(0)"
   ]
  },
  {
   "cell_type": "code",
   "execution_count": 10,
   "id": "0f0e4a96",
   "metadata": {},
   "outputs": [
    {
     "data": {
      "text/plain": [
       "761"
      ]
     },
     "execution_count": 10,
     "metadata": {},
     "output_type": "execute_result"
    }
   ],
   "source": [
    "cc.count(1)"
   ]
  },
  {
   "cell_type": "code",
   "execution_count": 11,
   "id": "90e59374",
   "metadata": {},
   "outputs": [
    {
     "data": {
      "text/plain": [
       "386"
      ]
     },
     "execution_count": 11,
     "metadata": {},
     "output_type": "execute_result"
    }
   ],
   "source": [
    "cc.count(0)"
   ]
  },
  {
   "cell_type": "code",
   "execution_count": 12,
   "id": "94df1026",
   "metadata": {},
   "outputs": [],
   "source": [
    "df['tempindex']=cc"
   ]
  },
  {
   "cell_type": "code",
   "execution_count": 14,
   "id": "32372932",
   "metadata": {},
   "outputs": [],
   "source": [
    "df2= df[df[\"tempindex\"] == 1]"
   ]
  },
  {
   "cell_type": "code",
   "execution_count": 17,
   "id": "0a61447f",
   "metadata": {},
   "outputs": [],
   "source": [
    "df2=df2.drop(columns=['tempindex'])"
   ]
  },
  {
   "cell_type": "code",
   "execution_count": 20,
   "id": "ad4a97c7",
   "metadata": {},
   "outputs": [],
   "source": [
    "df2.to_excel(\"ClimateArticles.xlsx\",index=False)  "
   ]
  },
  {
   "cell_type": "code",
   "execution_count": 21,
   "id": "2ef26cc7",
   "metadata": {},
   "outputs": [
    {
     "data": {
      "text/plain": [
       "241"
      ]
     },
     "execution_count": 21,
     "metadata": {},
     "output_type": "execute_result"
    }
   ],
   "source": [
    "list(df2['Source']).count(\"WINK News\")"
   ]
  },
  {
   "cell_type": "code",
   "execution_count": 23,
   "id": "a35ea80b",
   "metadata": {},
   "outputs": [
    {
     "data": {
      "text/plain": [
       "520"
      ]
     },
     "execution_count": 23,
     "metadata": {},
     "output_type": "execute_result"
    }
   ],
   "source": [
    "list(df2['Source']).count(\"FOX 4\")"
   ]
  },
  {
   "cell_type": "code",
   "execution_count": 24,
   "id": "c1c970a0",
   "metadata": {},
   "outputs": [
    {
     "data": {
      "text/plain": [
       "282"
      ]
     },
     "execution_count": 24,
     "metadata": {},
     "output_type": "execute_result"
    }
   ],
   "source": [
    "list(df['Source']).count(\"WINK News\")"
   ]
  },
  {
   "cell_type": "code",
   "execution_count": 25,
   "id": "28157256",
   "metadata": {},
   "outputs": [
    {
     "data": {
      "text/plain": [
       "865"
      ]
     },
     "execution_count": 25,
     "metadata": {},
     "output_type": "execute_result"
    }
   ],
   "source": [
    "list(df['Source']).count(\"FOX 4\")"
   ]
  },
  {
   "cell_type": "code",
   "execution_count": null,
   "id": "f5509920",
   "metadata": {},
   "outputs": [],
   "source": []
  }
 ],
 "metadata": {
  "kernelspec": {
   "display_name": "Python 3",
   "language": "python",
   "name": "python3"
  },
  "language_info": {
   "codemirror_mode": {
    "name": "ipython",
    "version": 3
   },
   "file_extension": ".py",
   "mimetype": "text/x-python",
   "name": "python",
   "nbconvert_exporter": "python",
   "pygments_lexer": "ipython3",
   "version": "3.8.8"
  }
 },
 "nbformat": 4,
 "nbformat_minor": 5
}
